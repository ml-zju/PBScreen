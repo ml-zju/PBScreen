{
 "cells": [
  {
   "cell_type": "code",
   "execution_count": null,
   "id": "47832fc5",
   "metadata": {},
   "outputs": [],
   "source": [
    "import torch\n",
    "import torch.nn as nn\n",
    "import pandas as pd\n",
    "import numpy as np\n",
    "import matplotlib.pyplot as plt\n",
    "import torch.nn.functional as F\n",
    "from torch.utils.data import TensorDataset\n",
    "from torch.utils.data import DataLoader\n",
    "from sklearn.model_selection import train_test_split\n",
    "from sklearn import datasets\n",
    "import rdkit\n",
    "from rdkit.Chem import rdMolDescriptors as rdDesc\n",
    "from rdkit.Chem import Descriptors, MolFromSmiles\n",
    "from molvs.normalize import Normalizer, Normalization\n",
    "from rdkit import rdBase, Chem, DataStructs\n",
    "from rdkit.Chem import AllChem\n",
    "from rdkit.ML.Descriptors import MoleculeDescriptors\n",
    "from rdkit.Chem.EState import Fingerprinter\n",
    "import mglearn\n",
    "from sklearn.preprocessing import StandardScaler\n",
    "from sklearn.model_selection import train_test_split\n",
    "from sklearn.gaussian_process.kernels import Matern, WhiteKernel, ConstantKernel, RBF\n",
    "from sklearn.neural_network import MLPClassifier\n",
    "from sklearn import gaussian_process\n",
    "from sklearn.metrics import r2_score\n",
    "from sklearn.model_selection import cross_val_score\n",
    "from rdkit.Chem import Draw\n",
    "from molvs.fragment import is_organic\n",
    "from molvs.metal import MetalDisconnector\n",
    "from rdkit.Chem.SaltRemover import SaltRemover\n",
    "from molvs import standardize_smiles\n",
    "from standardiser import process_smiles as ps\n",
    "from PyFingerprint.RDK_Fingerprint import rdk_fingerprint\n",
    "from PyFingerprint.CDK_Fingerprint import cdk_fingerprint\n",
    "from rdkit.Chem.AllChem import GetMorganFingerprintAsBitVect\n",
    "from sklearn.model_selection import GridSearchCV\n",
    "import dgl\n",
    "from dgl import DGLGraph\n",
    "from dgl.nn import GraphConv\n",
    "from dgl.nn.pytorch.conv import GINConv, ChebConv"
   ]
  }
 ],
 "metadata": {
  "kernelspec": {
   "display_name": "Python 3 (ipykernel)",
   "language": "python",
   "name": "python3"
  },
  "language_info": {
   "codemirror_mode": {
    "name": "ipython",
    "version": 3
   },
   "file_extension": ".py",
   "mimetype": "text/x-python",
   "name": "python",
   "nbconvert_exporter": "python",
   "pygments_lexer": "ipython3",
   "version": "3.9.13"
  }
 },
 "nbformat": 4,
 "nbformat_minor": 5
}
