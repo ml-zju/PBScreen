{
 "cells": [
  {
   "cell_type": "code",
   "execution_count": null,
   "id": "071da0e8",
   "metadata": {},
   "outputs": [],
   "source": [
    "from PyFingerprint.RDK_Fingerprint import rdk_fingerprint\n",
    "from PyFingerprint.CDK_Fingerprint import cdk_fingerprint"
   ]
  },
  {
   "cell_type": "code",
   "execution_count": null,
   "id": "1c442f02",
   "metadata": {},
   "outputs": [],
   "source": [
    "# Read the Excel file into a pandas DataFrame\n",
    "data = pd.read_excel('demo.xlsx')\n",
    "# Extract the SMILES column\n",
    "smiles = data['SMILES']"
   ]
  },
  {
   "cell_type": "code",
   "execution_count": null,
   "id": "0c5d36fd",
   "metadata": {},
   "outputs": [],
   "source": [
    "# Calculate Avalon fingerprints\n",
    "vecs = [rdk_fingerprint(smi, fp_type='Avalon', output='vector') for smi in data['SMILES']]\n",
    "fingerprint= pd.DataFrame(vecs)"
   ]
  },
  {
   "cell_type": "code",
   "execution_count": null,
   "id": "a74b445e",
   "metadata": {},
   "outputs": [],
   "source": [
    "# Calculate Klekota-roth fingerprints\n",
    "vecs = [cdk_fingerprint(smi, fp_type='klekota-roth', output='vector') for smi in data['SMILES']]\n",
    "fingerprint= pd.DataFrame(vecs)"
   ]
  },
  {
   "cell_type": "code",
   "execution_count": null,
   "id": "f2ba90c7",
   "metadata": {},
   "outputs": [],
   "source": [
    "# Calculate Maccs fingerprints\n",
    "vecs = [rdk_fingerprint(smi, fp_type='maccs', output='vector') for smi in data['SMILES']]\n",
    "fingerprint= pd.DataFrame(vecs)"
   ]
  },
  {
   "cell_type": "code",
   "execution_count": null,
   "id": "abf3077a",
   "metadata": {},
   "outputs": [],
   "source": [
    "# Calculate Pubchem fingerprints\n",
    "vecs = [cdk_fingerprint(smi, fp_type='pubchem', output='vector') for smi in data['SMILES']]\n",
    "fingerprint= pd.DataFrame(vecs)"
   ]
  },
  {
   "cell_type": "code",
   "execution_count": null,
   "id": "93f98996",
   "metadata": {},
   "outputs": [],
   "source": [
    "# Calculate Rdkit fingerprints\n",
    "vecs = [rdk_fingerprint(smi, fp_type='rdkit', output='vector') for smi in data['SMILES']]\n",
    "fingerprint= pd.DataFrame(vecs)"
   ]
  },
  {
   "cell_type": "code",
   "execution_count": null,
   "id": "13e1a608",
   "metadata": {},
   "outputs": [],
   "source": [
    "# Calculate Morgan fingerprints\n",
    "ecfp_fps = [AllChem.GetMorganFingerprintAsBitVect(Chem.MolFromSmiles(smi), 2, nBits=2048) for smi in smiles]\n",
    "# Convert the fingerprints to binary strings\n",
    "ecfp_fps_binary = [fp.ToBitString() for fp in ecfp_fps]\n",
    "# Create a DataFrame to store the fingerprints\n",
    "fingerprint = pd.DataFrame([list(fp) for fp in ecfp_fps_binary], columns=[f'{i}' for i in range(2048)])"
   ]
  }
 ],
 "metadata": {
  "kernelspec": {
   "display_name": "Python 3 (ipykernel)",
   "language": "python",
   "name": "python3"
  },
  "language_info": {
   "codemirror_mode": {
    "name": "ipython",
    "version": 3
   },
   "file_extension": ".py",
   "mimetype": "text/x-python",
   "name": "python",
   "nbconvert_exporter": "python",
   "pygments_lexer": "ipython3",
   "version": "3.9.13"
  }
 },
 "nbformat": 4,
 "nbformat_minor": 5
}
